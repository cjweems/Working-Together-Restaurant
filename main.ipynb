{
  "nbformat": 4,
  "nbformat_minor": 0,
  "metadata": {
    "colab": {
      "provenance": [],
      "authorship_tag": "ABX9TyM4qv40oBpritbFD1lVIfjm",
      "include_colab_link": true
    },
    "kernelspec": {
      "name": "python3",
      "display_name": "Python 3"
    },
    "language_info": {
      "name": "python"
    }
  },
  "cells": [
    {
      "cell_type": "markdown",
      "metadata": {
        "id": "view-in-github",
        "colab_type": "text"
      },
      "source": [
        "<a href=\"https://colab.research.google.com/github/cjweems/Working-Together-Restaurant/blob/carter/main.ipynb\" target=\"_parent\"><img src=\"https://colab.research.google.com/assets/colab-badge.svg\" alt=\"Open In Colab\"/></a>"
      ]
    },
    {
      "cell_type": "markdown",
      "source": [
        "Totals the amount from ordering the food and gives reccomendations on the tip amount and gives final price.\n",
        "\n",
        "- Tip\n",
        "- Tax\n",
        "- Total"
      ],
      "metadata": {
        "id": "qCOK02ew1a1b"
      }
    },
    {
      "cell_type": "code",
      "execution_count": 20,
      "metadata": {
        "id": "vMQ155pn03oL"
      },
      "outputs": [],
      "source": [
        "def taxCalculator(subTotal):\n",
        "  taxTotal = subTotal * .06\n",
        "\n",
        "  return taxTotal"
      ]
    },
    {
      "cell_type": "code",
      "source": [
        "def tipCalculator(subTotal):\n",
        "  tenPercentTip = subTotal * .10\n",
        "  fifteenPercentTip = subTotal * .15\n",
        "  twentyPercentTip = subTotal * .20\n",
        "\n",
        "  print(\"10% Tip: $\" + str(tenPercentTip) + \"\\n15% Tip: $\" + str(fifteenPercentTip) + \"\\n20% Tip: $\" + str(twentyPercentTip))\n",
        "\n",
        "  response = str(input(\"How much would you like to tip? (10, 15, 20)\"))\n",
        "  if response == '10':\n",
        "    tipTotal = tenPercentTip\n",
        "  if response == '15':\n",
        "    tipTotal = fifteenPercentTip\n",
        "  if response == '20':\n",
        "    tipTotal = twentyPercentTip\n",
        "\n",
        "  return tipTotal"
      ],
      "metadata": {
        "id": "872AiWzq3KKu"
      },
      "execution_count": 32,
      "outputs": []
    },
    {
      "cell_type": "code",
      "source": [
        "def reciet(subTotal, taxTotal):\n",
        "  tipTotal = tipCalculator(money)\n",
        "  total = subTotal + tipTotal + taxTotal\n",
        "\n",
        "  print(\"Subtotal: $\" + str(subTotal))\n",
        "  print(\"Tax: $\" + str(taxTotal))\n",
        "  print(\"Tip: $\" + str(tipTotal))\n",
        "  print(\"Total: $%.2f\" % total)"
      ],
      "metadata": {
        "id": "VDBTRxJM5ohK"
      },
      "execution_count": 48,
      "outputs": []
    },
    {
      "cell_type": "code",
      "source": [
        "money = 100\n",
        "\n",
        "taxTotal = taxCalculator(money)\n",
        "\n",
        "reciet(money, taxTotal)"
      ],
      "metadata": {
        "id": "yF9zpXPD2ri2",
        "colab": {
          "base_uri": "https://localhost:8080/"
        },
        "outputId": "5f75de6e-e75b-4013-eaa9-66fd5cdb02a0"
      },
      "execution_count": 50,
      "outputs": [
        {
          "output_type": "stream",
          "name": "stdout",
          "text": [
            "10% Tip: $10.0\n",
            "15% Tip: $15.0\n",
            "20% Tip: $20.0\n",
            "How much would you like to tip? (10, 15, 20)20\n",
            "Subtotal: $100\n",
            "Tax: $6.0\n",
            "Tip: $20.0\n",
            "Total: $126.00\n"
          ]
        }
      ]
    }
  ]
}