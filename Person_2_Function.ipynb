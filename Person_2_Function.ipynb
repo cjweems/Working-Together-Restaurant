{
  "nbformat": 4,
  "nbformat_minor": 0,
  "metadata": {
    "colab": {
      "provenance": [],
      "authorship_tag": "ABX9TyMN1p22f5GzOODd3bsfleLv",
      "include_colab_link": true
    },
    "kernelspec": {
      "name": "python3",
      "display_name": "Python 3"
    },
    "language_info": {
      "name": "python"
    }
  },
  "cells": [
    {
      "cell_type": "markdown",
      "metadata": {
        "id": "view-in-github",
        "colab_type": "text"
      },
      "source": [
        "<a href=\"https://colab.research.google.com/github/cjweems/Working-Together-Restaurant/blob/main/Person_2_Function.ipynb\" target=\"_parent\"><img src=\"https://colab.research.google.com/assets/colab-badge.svg\" alt=\"Open In Colab\"/></a>"
      ]
    },
    {
      "cell_type": "markdown",
      "source": [
        "Totals the amount from ordering the food and gives reccomendations on the tip amount and gives final price.\n",
        "\n",
        "- Tip\n",
        "- Tax\n",
        "- Total"
      ],
      "metadata": {
        "id": "qCOK02ew1a1b"
      }
    },
    {
      "cell_type": "code",
      "execution_count": 49,
      "metadata": {
        "id": "vMQ155pn03oL"
      },
      "outputs": [],
      "source": [
        "def taxCalculator(subTotal):\n",
        "  tax = subTotal * .06\n",
        "\n",
        "  return taxTotal"
      ]
    },
    {
      "cell_type": "code",
      "source": [
        "def tipCalculator(subTotal):\n",
        "  tenPercentTip = subTotal * .10\n",
        "  fifteenPercentTip = subTotal * .15\n",
        "  twentyPercentTip = subTotal * .20\n",
        "\n",
        "  print(\"10% Tip: $\" + str(tenPercentTip) + \"\\n15% Tip: $\" + str(fifteenPercentTip) + \"\\n20% Tip: $\" + str(twentyPercentTip))\n",
        "\n",
        "  response = str(input(\"How much would you like to tip? (10, 15, 20)\"))\n",
        "  if response == '10':\n",
        "    tipTotal = tenPercentTip\n",
        "  if response == '15':\n",
        "    tipTotal = fifteenPercentTip\n",
        "  if response == '20':\n",
        "    tipTotal = twentyPercentTip\n",
        "\n",
        "  return tipTotal"
      ],
      "metadata": {
        "id": "872AiWzq3KKu"
      },
      "execution_count": 48,
      "outputs": []
    },
    {
      "cell_type": "code",
      "source": [
        "def reciet(subTotal, taxTotal):\n",
        "  print(\"Subtotal: $\" + str(subTotal))\n",
        "  print(\"Tax: $\" + str(taxTotal))\n",
        "\n",
        "  tipTotal = tipCalculator(money)\n",
        "  print(\"Tip: $\" + str(tipTotal))\n",
        "\n",
        "  total = subTotal + tipTotal + taxTotal\n",
        "  print(\"Total: $\" + str(total))"
      ],
      "metadata": {
        "id": "VDBTRxJM5ohK"
      },
      "execution_count": 50,
      "outputs": []
    },
    {
      "cell_type": "code",
      "source": [
        "money = 84.35\n",
        "\n",
        "taxTotal = taxCalculator(money)\n",
        "reciet(money, taxTotal)"
      ],
      "metadata": {
        "id": "yF9zpXPD2ri2"
      },
      "execution_count": null,
      "outputs": []
    }
  ]
}