{
  "nbformat": 4,
  "nbformat_minor": 0,
  "metadata": {
    "colab": {
      "provenance": [],
      "include_colab_link": true
    },
    "kernelspec": {
      "name": "python3",
      "display_name": "Python 3"
    },
    "language_info": {
      "name": "python"
    }
  },
  "cells": [
    {
      "cell_type": "markdown",
      "metadata": {
        "id": "view-in-github",
        "colab_type": "text"
      },
      "source": [
        "<a href=\"https://colab.research.google.com/github/cjweems/Working-Together-Restaurant/blob/evan/Untitled15.ipynb\" target=\"_parent\"><img src=\"https://colab.research.google.com/assets/colab-badge.svg\" alt=\"Open In Colab\"/></a>"
      ]
    },
    {
      "cell_type": "markdown",
      "source": [],
      "metadata": {
        "id": "a0Wl-fXK__PG"
      }
    },
    {
      "cell_type": "markdown",
      "source": [
        "Main Courses:\n",
        "1. Cheeseburger 4.99\n",
        "2. Steak-\n",
        "3. Cheese/Pepperoni/Bacon Pizza-\n",
        "4. Hotdogs-\n",
        "5. Cheesesteaks-\n",
        "6. Burritos-\n",
        "7. Fried Chicken-\n",
        "8. Hot Pies-\n",
        "9. Waffles-\n",
        "10. Pancakes-\n",
        "11. Tacos-\n",
        "12. Quesadillas-\n",
        "13. Salads-\n",
        "\n",
        "Sides:\n",
        "1. Crinkle/Sweet/Standard/Cheese/Curly Fries-$\n",
        "3. Tator Tots-$\n",
        "4. Mash Potatoes w/o Gravy-$\n",
        "5. Corn-$\n",
        "6. Mozzerella Sticks-$\n",
        "7. Onion Rings-$\n",
        "8. Biscuits-$\n",
        "9. Hash Browns-$\n",
        "10. Rice-$\n",
        "11. Baked Potatoes-$\n",
        "12. Green Beans-$\n",
        "13. Mac and Cheese-$\n",
        "\n",
        "Desserts:\n",
        "1. Ice Cream/Flurries-$\n",
        "2. Apple/Peach/Cherry/Pecan Pies-$\n",
        "3. Brownies-$\n",
        "4. Cookies-$\n",
        "5. Cake Slices-$\n",
        "6. Cupcakes-$\n",
        "7. Donuts-$\n",
        "\n",
        "Drinks:\n",
        "1. Coke-$\n",
        "2. Pepsi-$\n",
        "3. Mountain Dew-$\n",
        "4. Root Beer-$\n",
        "5. Dr.Pepper-$\n",
        "6. Fanta-$\n",
        "7. 7-Up-$\n",
        "8. Sprite-$\n",
        "9. Iced/Hot Tea-$\n",
        "10. Iced/Hot Coffee-$\n",
        "11. Hot Chocolate-$\n",
        "12. Strawberry/Chocolate/Cookies and Creams/Mint/Vanilla Shakes-$\n",
        "13. Charged Lemonade-$\n",
        "\n"
      ],
      "metadata": {
        "id": "D6VzMThp2S_f"
      }
    },
    {
      "cell_type": "code",
      "source": [
        "def mealChoice():\n",
        "  mainCourseChoices = [\"Cheeseburger\", \"Steak\", \"Pizza\", \"Hotdog\", \"Cheesesteak\", \"Chicken Tender\"]\n",
        "  mainCourseCost = [5, 10, 8, 4, 5, 6]\n",
        "\n",
        "  print(mainCourseChoices)\n",
        "  print(mainCourseCost)\n",
        "\n",
        "  response = input(\"Which meal would you like? (0-5): \")\n",
        "\n",
        "  meal = mainCourseChoices[int(response)]\n",
        "  cost = mainCourseCost[int(response)]\n",
        "\n",
        "  return meal, cost"
      ],
      "metadata": {
        "id": "SXxddk_L_nyG"
      },
      "execution_count": 15,
      "outputs": []
    },
    {
      "cell_type": "code",
      "source": [
        "mealChoice()"
      ],
      "metadata": {
        "id": "BsFrcqif_wbj",
        "outputId": "8a77c111-0041-4f07-f8b9-b9ac4a040ace",
        "colab": {
          "base_uri": "https://localhost:8080/"
        }
      },
      "execution_count": 16,
      "outputs": [
        {
          "name": "stdout",
          "output_type": "stream",
          "text": [
            "['Cheeseburger', 'Steak', 'Pizza', 'Hotdog', 'Cheesesteak', 'Chicken Tender']\n",
            "[5, 10, 8, 4, 5, 6]\n",
            "Which meal would you like? (0-5): 1\n"
          ]
        },
        {
          "output_type": "execute_result",
          "data": {
            "text/plain": [
              "('Steak', 10)"
            ]
          },
          "metadata": {},
          "execution_count": 16
        }
      ]
    }
  ]
}